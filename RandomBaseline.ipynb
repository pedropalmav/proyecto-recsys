{
  "nbformat": 4,
  "nbformat_minor": 0,
  "metadata": {
    "colab": {
      "provenance": []
    },
    "kernelspec": {
      "name": "python3",
      "display_name": "Python 3"
    },
    "language_info": {
      "name": "python"
    }
  },
  "cells": [
    {
      "cell_type": "markdown",
      "source": [
        "# **Instalación e Importación de Librerías**"
      ],
      "metadata": {
        "id": "scbRFwlrc2zn"
      }
    },
    {
      "cell_type": "code",
      "execution_count": 1,
      "metadata": {
        "colab": {
          "base_uri": "https://localhost:8080/"
        },
        "id": "LuR9JtracyOq",
        "outputId": "b0708ebf-4c96-4e8e-a34c-f6e31e176f5d"
      },
      "outputs": [
        {
          "output_type": "stream",
          "name": "stdout",
          "text": [
            "Requirement already satisfied: seaborn in /usr/local/lib/python3.10/dist-packages (0.13.2)\n",
            "Requirement already satisfied: numpy!=1.24.0,>=1.20 in /usr/local/lib/python3.10/dist-packages (from seaborn) (1.26.4)\n",
            "Requirement already satisfied: pandas>=1.2 in /usr/local/lib/python3.10/dist-packages (from seaborn) (2.2.2)\n",
            "Requirement already satisfied: matplotlib!=3.6.1,>=3.4 in /usr/local/lib/python3.10/dist-packages (from seaborn) (3.7.1)\n",
            "Requirement already satisfied: contourpy>=1.0.1 in /usr/local/lib/python3.10/dist-packages (from matplotlib!=3.6.1,>=3.4->seaborn) (1.3.0)\n",
            "Requirement already satisfied: cycler>=0.10 in /usr/local/lib/python3.10/dist-packages (from matplotlib!=3.6.1,>=3.4->seaborn) (0.12.1)\n",
            "Requirement already satisfied: fonttools>=4.22.0 in /usr/local/lib/python3.10/dist-packages (from matplotlib!=3.6.1,>=3.4->seaborn) (4.54.1)\n",
            "Requirement already satisfied: kiwisolver>=1.0.1 in /usr/local/lib/python3.10/dist-packages (from matplotlib!=3.6.1,>=3.4->seaborn) (1.4.7)\n",
            "Requirement already satisfied: packaging>=20.0 in /usr/local/lib/python3.10/dist-packages (from matplotlib!=3.6.1,>=3.4->seaborn) (24.1)\n",
            "Requirement already satisfied: pillow>=6.2.0 in /usr/local/lib/python3.10/dist-packages (from matplotlib!=3.6.1,>=3.4->seaborn) (10.4.0)\n",
            "Requirement already satisfied: pyparsing>=2.3.1 in /usr/local/lib/python3.10/dist-packages (from matplotlib!=3.6.1,>=3.4->seaborn) (3.1.4)\n",
            "Requirement already satisfied: python-dateutil>=2.7 in /usr/local/lib/python3.10/dist-packages (from matplotlib!=3.6.1,>=3.4->seaborn) (2.8.2)\n",
            "Requirement already satisfied: pytz>=2020.1 in /usr/local/lib/python3.10/dist-packages (from pandas>=1.2->seaborn) (2024.2)\n",
            "Requirement already satisfied: tzdata>=2022.7 in /usr/local/lib/python3.10/dist-packages (from pandas>=1.2->seaborn) (2024.2)\n",
            "Requirement already satisfied: six>=1.5 in /usr/local/lib/python3.10/dist-packages (from python-dateutil>=2.7->matplotlib!=3.6.1,>=3.4->seaborn) (1.16.0)\n",
            "Collecting surprise\n",
            "  Downloading surprise-0.1-py2.py3-none-any.whl.metadata (327 bytes)\n",
            "Collecting scikit-surprise (from surprise)\n",
            "  Downloading scikit_surprise-1.1.4.tar.gz (154 kB)\n",
            "\u001b[2K     \u001b[90m━━━━━━━━━━━━━━━━━━━━━━━━━━━━━━━━━━━━━━━━\u001b[0m \u001b[32m154.4/154.4 kB\u001b[0m \u001b[31m3.3 MB/s\u001b[0m eta \u001b[36m0:00:00\u001b[0m\n",
            "\u001b[?25h  Installing build dependencies ... \u001b[?25l\u001b[?25hdone\n",
            "  Getting requirements to build wheel ... \u001b[?25l\u001b[?25hdone\n",
            "  Preparing metadata (pyproject.toml) ... \u001b[?25l\u001b[?25hdone\n",
            "Requirement already satisfied: joblib>=1.2.0 in /usr/local/lib/python3.10/dist-packages (from scikit-surprise->surprise) (1.4.2)\n",
            "Requirement already satisfied: numpy>=1.19.5 in /usr/local/lib/python3.10/dist-packages (from scikit-surprise->surprise) (1.26.4)\n",
            "Requirement already satisfied: scipy>=1.6.0 in /usr/local/lib/python3.10/dist-packages (from scikit-surprise->surprise) (1.13.1)\n",
            "Downloading surprise-0.1-py2.py3-none-any.whl (1.8 kB)\n",
            "Building wheels for collected packages: scikit-surprise\n",
            "  Building wheel for scikit-surprise (pyproject.toml) ... \u001b[?25l\u001b[?25hdone\n",
            "  Created wheel for scikit-surprise: filename=scikit_surprise-1.1.4-cp310-cp310-linux_x86_64.whl size=2357282 sha256=12cafb06b32400d1fc1a3f2a206246820130c57e9de9f82f9e79ae477f62c4d1\n",
            "  Stored in directory: /root/.cache/pip/wheels/4b/3f/df/6acbf0a40397d9bf3ff97f582cc22fb9ce66adde75bc71fd54\n",
            "Successfully built scikit-surprise\n",
            "Installing collected packages: scikit-surprise, surprise\n",
            "Successfully installed scikit-surprise-1.1.4 surprise-0.1\n"
          ]
        }
      ],
      "source": [
        "!pip install seaborn  --upgrade\n",
        "!pip install surprise --upgrade"
      ]
    },
    {
      "cell_type": "code",
      "source": [
        "import pandas as pd\n",
        "import surprise\n",
        "import seaborn as sns\n",
        "import numpy as np\n",
        "import scipy.sparse as sparse\n",
        "import matplotlib.pyplot as plt\n",
        "import time\n",
        "import psutil\n",
        "from tabulate import tabulate\n",
        "from collections import defaultdict\n",
        "import random\n"
      ],
      "metadata": {
        "id": "VXZfpsjLdDAq"
      },
      "execution_count": 2,
      "outputs": []
    },
    {
      "cell_type": "markdown",
      "source": [
        "# **Carga de Datos**"
      ],
      "metadata": {
        "id": "OO30fVZhdD-8"
      }
    },
    {
      "cell_type": "code",
      "source": [
        "!wget -O LLM-ReDial-2024.zip \"https://www.dropbox.com/scl/fi/x9avfdx2a1k6uq97f0efj/LLM-ReDial-2024.zip?rlkey=ijqpf91d13d6lowek3ebjvd0n&e=2&dl=1\"\n",
        "!unzip LLM-ReDial-2024.zip\n",
        "!unzip LLM_Redial.zip\n",
        "!rm LLM_Redial.zip\n",
        "!rm LLM-ReDial-2024.zip\n",
        "!rm -rf __MACOSX"
      ],
      "metadata": {
        "id": "qH3jmNTBdHSy",
        "colab": {
          "base_uri": "https://localhost:8080/"
        },
        "outputId": "5a78a419-9d0a-4a34-a327-412567890340"
      },
      "execution_count": 3,
      "outputs": [
        {
          "output_type": "stream",
          "name": "stdout",
          "text": [
            "--2024-10-14 21:29:53--  https://www.dropbox.com/scl/fi/x9avfdx2a1k6uq97f0efj/LLM-ReDial-2024.zip?rlkey=ijqpf91d13d6lowek3ebjvd0n&e=2&dl=1\n",
            "Resolving www.dropbox.com (www.dropbox.com)... 162.125.3.18, 2620:100:6030:18::a27d:5012\n",
            "Connecting to www.dropbox.com (www.dropbox.com)|162.125.3.18|:443... connected.\n",
            "HTTP request sent, awaiting response... 302 Found\n",
            "Location: https://uc5c67f348d83c687642c2d147ea.dl.dropboxusercontent.com/cd/0/inline/Ccd8ppFOnr8Xc1EzpoX1pY7wq4H4k8ipMnj6CYjDMhhU6aD4b1vCWCWGE9jIXskMYBWFfUoPZE1ieKaP_Y--K28qz3v1wRTCuusGxN5W2iGNP42nm2oG5AZ-7-rnrYxhHd8/file?dl=1# [following]\n",
            "--2024-10-14 21:29:54--  https://uc5c67f348d83c687642c2d147ea.dl.dropboxusercontent.com/cd/0/inline/Ccd8ppFOnr8Xc1EzpoX1pY7wq4H4k8ipMnj6CYjDMhhU6aD4b1vCWCWGE9jIXskMYBWFfUoPZE1ieKaP_Y--K28qz3v1wRTCuusGxN5W2iGNP42nm2oG5AZ-7-rnrYxhHd8/file?dl=1\n",
            "Resolving uc5c67f348d83c687642c2d147ea.dl.dropboxusercontent.com (uc5c67f348d83c687642c2d147ea.dl.dropboxusercontent.com)... 162.125.3.15, 2620:100:6018:15::a27d:30f\n",
            "Connecting to uc5c67f348d83c687642c2d147ea.dl.dropboxusercontent.com (uc5c67f348d83c687642c2d147ea.dl.dropboxusercontent.com)|162.125.3.15|:443... connected.\n",
            "HTTP request sent, awaiting response... 302 Found\n",
            "Location: /cd/0/inline2/Ccf1y72dCVWS3x9UTNWouRj3b_LcT5vtNdssA84liq0TsUH2vck_PD5Sd_9b-CV_XY8XuI7mDg4moxXYN1w3jF3KRa0UHGlFDN5RBL1CJrQ1vYYOeXFe2jEb-6F13EYtbj1KLWOgEEyLaQipks1_lA6zQqRhtRJ27YTmkVg-8EYVKLpxyHmI5GKf6gLJx9rTK-Y8n3q7UgpZNZLol-TUWYJNfa23EqorjmGUNsWbFZuyG94Z060hUgcEFhosSa2464SyqNmtjErn1JOcBJF-5eW2x67agdxBcYKbkPJYSrRh3iIZXQmZ3e8aaYZ6Rka0sYY7J1hbSWUIQNEyfwOfipUZ5Pa3c5ZKRffWv5PZyjSPGw/file?dl=1 [following]\n",
            "--2024-10-14 21:29:55--  https://uc5c67f348d83c687642c2d147ea.dl.dropboxusercontent.com/cd/0/inline2/Ccf1y72dCVWS3x9UTNWouRj3b_LcT5vtNdssA84liq0TsUH2vck_PD5Sd_9b-CV_XY8XuI7mDg4moxXYN1w3jF3KRa0UHGlFDN5RBL1CJrQ1vYYOeXFe2jEb-6F13EYtbj1KLWOgEEyLaQipks1_lA6zQqRhtRJ27YTmkVg-8EYVKLpxyHmI5GKf6gLJx9rTK-Y8n3q7UgpZNZLol-TUWYJNfa23EqorjmGUNsWbFZuyG94Z060hUgcEFhosSa2464SyqNmtjErn1JOcBJF-5eW2x67agdxBcYKbkPJYSrRh3iIZXQmZ3e8aaYZ6Rka0sYY7J1hbSWUIQNEyfwOfipUZ5Pa3c5ZKRffWv5PZyjSPGw/file?dl=1\n",
            "Reusing existing connection to uc5c67f348d83c687642c2d147ea.dl.dropboxusercontent.com:443.\n",
            "HTTP request sent, awaiting response... 200 OK\n",
            "Length: 32109796 (31M) [application/binary]\n",
            "Saving to: ‘LLM-ReDial-2024.zip’\n",
            "\n",
            "LLM-ReDial-2024.zip 100%[===================>]  30.62M  81.4MB/s    in 0.4s    \n",
            "\n",
            "2024-10-14 21:29:55 (81.4 MB/s) - ‘LLM-ReDial-2024.zip’ saved [32109796/32109796]\n",
            "\n",
            "Archive:  LLM-ReDial-2024.zip\n",
            "  inflating: read_me.py              \n",
            "  inflating: Tools.py                \n",
            "  inflating: LLM_Redial.zip          \n",
            "Archive:  LLM_Redial.zip\n",
            "   creating: Books/\n",
            "  inflating: Books/.DS_Store         \n",
            "  inflating: __MACOSX/Books/._.DS_Store  \n",
            "  inflating: Books/item_map.json     \n",
            "  inflating: __MACOSX/Books/._item_map.json  \n",
            "  inflating: Books/user_ids.json     \n",
            "  inflating: Books/final_data.jsonl  \n",
            "  inflating: Books/Conversation.txt  \n",
            "   creating: Electronics/\n",
            "  inflating: Electronics/.DS_Store   \n",
            "  inflating: __MACOSX/Electronics/._.DS_Store  \n",
            "  inflating: Electronics/item_map.json  \n",
            "  inflating: Electronics/user_ids.json  \n",
            "  inflating: Electronics/final_data.jsonl  \n",
            "  inflating: Electronics/Conversation.txt  \n",
            "   creating: Electronics/.idea/\n",
            "   creating: Electronics/.idea/inspectionProfiles/\n",
            " extracting: Electronics/.idea/.gitignore  \n",
            "  inflating: Electronics/.idea/workspace.xml  \n",
            "  inflating: Electronics/.idea/modules.xml  \n",
            "  inflating: Electronics/.idea/misc.xml  \n",
            "  inflating: Electronics/.idea/Electronics.iml  \n",
            "  inflating: Electronics/.idea/inspectionProfiles/profiles_settings.xml  \n",
            "  inflating: Electronics/.idea/inspectionProfiles/Project_Default.xml  \n",
            "   creating: Movie/\n",
            "  inflating: Movie/.DS_Store         \n",
            "  inflating: __MACOSX/Movie/._.DS_Store  \n",
            "  inflating: Movie/item_map.json     \n",
            "  inflating: __MACOSX/Movie/._item_map.json  \n",
            "  inflating: Movie/user_ids.json     \n",
            "  inflating: Movie/final_data.jsonl  \n",
            "  inflating: Movie/Conversation.txt  \n",
            "   creating: Sports/\n",
            "  inflating: Sports/.DS_Store        \n",
            "  inflating: __MACOSX/Sports/._.DS_Store  \n",
            "  inflating: Sports/item_map.json    \n",
            "  inflating: Sports/user_ids.json    \n",
            "  inflating: Sports/final_data.jsonl  \n",
            "  inflating: Sports/Conversation.txt  \n",
            "/bin/bash: line 1: rm -rf __MACOSX: command not found\n"
          ]
        }
      ]
    },
    {
      "cell_type": "markdown",
      "source": [
        "# **Random Baseline**"
      ],
      "metadata": {
        "id": "LF7w3JvggEaU"
      }
    },
    {
      "cell_type": "markdown",
      "source": [
        "**Función para leer datos de un usuario**"
      ],
      "metadata": {
        "id": "WtuJXFs9LzI5"
      }
    },
    {
      "cell_type": "code",
      "source": [
        "### Directamente desde sample_data/Tools.py\n",
        "import json\n",
        "import csv\n",
        "\n",
        "def read_user_data(filename, user_id):\n",
        "    with open(filename, 'r', encoding='utf-8') as file:\n",
        "        data = [json.loads(line) for line in file]\n",
        "\n",
        "    for entry in data:\n",
        "        if user_id in entry:\n",
        "            return entry[user_id]\n",
        "\n",
        "    return None\n"
      ],
      "metadata": {
        "id": "mIP6atgejS6B"
      },
      "execution_count": 4,
      "outputs": []
    },
    {
      "cell_type": "markdown",
      "source": [
        "**Función para recomendar aleatoriamente un item nuevo a un usuario**"
      ],
      "metadata": {
        "id": "qMXvz8eaL33P"
      }
    },
    {
      "cell_type": "code",
      "source": [
        "### Retorna una lista con n recomendaciones, 0 si el usuario no se encuentra\n",
        "def random_recommendations(userID, itemsID, final_data_path, n):\n",
        "    user_data = read_user_data(final_data_path, userID)\n",
        "\n",
        "    if user_data is None:\n",
        "        print(f\"No se encontraron datos para el usuario {userID}.\")\n",
        "        return []\n",
        "    else:\n",
        "        user_history = user_data['history_interaction']\n",
        "        possible_recommendations = set(itemsID) - set(user_history)\n",
        "        recommended_items = list(np.random.choice(list(possible_recommendations), size=n, replace=False))\n",
        "        return recommended_items"
      ],
      "metadata": {
        "id": "r9dn5wa7gcyE"
      },
      "execution_count": 5,
      "outputs": []
    },
    {
      "cell_type": "markdown",
      "source": [
        "**Evaluar baseline**"
      ],
      "metadata": {
        "id": "SjN8-lHVMGIN"
      }
    },
    {
      "cell_type": "code",
      "source": [
        "def evaluate_random_baseline(items_map_path, users_map_path, final_data_path, n, sample_percent=0.1):\n",
        "    users_map = json.load(open(users_map_path, 'r'))\n",
        "    items_map = json.load(open(items_map_path, 'r'))\n",
        "\n",
        "    user_ids = list(users_map.keys())\n",
        "    items_ids = list(items_map.keys())\n",
        "\n",
        "    sample_size = int(sample_percent * len(user_ids))\n",
        "    sampled_users = random.sample(user_ids, sample_size)\n",
        "\n",
        "    hit = 0\n",
        "    total = 0\n",
        "\n",
        "    for user in sampled_users:\n",
        "        user_data = read_user_data(final_data_path, user)\n",
        "        if not user_data:\n",
        "            continue\n",
        "\n",
        "        user_conversations = user_data.get('Conversation', [])\n",
        "        for j, conversation in enumerate(user_conversations):\n",
        "            rec_item = conversation.get(f'conversation_{j+1}', {}).get('rec_item')\n",
        "            if not rec_item:\n",
        "                continue\n",
        "\n",
        "            random_item = random_recommendations(user, items_ids, final_data_path, n)\n",
        "\n",
        "            if rec_item[0] in random_item:\n",
        "                hit += 1\n",
        "            total += 1\n",
        "\n",
        "    return hit / total if total > 0 else 0"
      ],
      "metadata": {
        "id": "0f64KUsuVTl_"
      },
      "execution_count": 12,
      "outputs": []
    },
    {
      "cell_type": "code",
      "source": [
        "movies_items_map_path = \"Movie/item_map.json\"\n",
        "movies_users_map_path = \"Movie/user_ids.json\"\n",
        "movies_final_data_path = \"Movie/final_data.jsonl\"\n",
        "\n",
        "books_items_map_path = \"Books/item_map.json\"\n",
        "books_users_map_path = \"Books/user_ids.json\"\n",
        "books_final_data_path = \"Books/final_data.jsonl\""
      ],
      "metadata": {
        "id": "GHBLPlWE2nFn"
      },
      "execution_count": 13,
      "outputs": []
    },
    {
      "cell_type": "markdown",
      "source": [
        "**Evaluar para películas**"
      ],
      "metadata": {
        "id": "wkObpOzz23rj"
      }
    },
    {
      "cell_type": "code",
      "source": [
        "evaluate_random_baseline(movies_items_map_path, movies_users_map_path, movies_final_data_path, 5)"
      ],
      "metadata": {
        "id": "B32D4BMuahjW",
        "colab": {
          "base_uri": "https://localhost:8080/"
        },
        "outputId": "11eef189-f943-4257-fac2-a714b3e0d285"
      },
      "execution_count": 14,
      "outputs": [
        {
          "output_type": "execute_result",
          "data": {
            "text/plain": [
              "0.0"
            ]
          },
          "metadata": {},
          "execution_count": 14
        }
      ]
    },
    {
      "cell_type": "markdown",
      "source": [
        "**Evaluar para libros**"
      ],
      "metadata": {
        "id": "8tmxK7uU2-y4"
      }
    },
    {
      "cell_type": "code",
      "source": [
        "evaluate_random_baseline(books_items_map_path, books_users_map_path, books_final_data_path, 5)"
      ],
      "metadata": {
        "id": "hH3_3BnZ2-T_",
        "colab": {
          "base_uri": "https://localhost:8080/"
        },
        "outputId": "6bfe5c04-0d7d-4f9c-ea88-e0dca01f71a1"
      },
      "execution_count": 15,
      "outputs": [
        {
          "output_type": "execute_result",
          "data": {
            "text/plain": [
              "0.0"
            ]
          },
          "metadata": {},
          "execution_count": 15
        }
      ]
    }
  ]
}