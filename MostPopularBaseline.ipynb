{
 "cells": [
  {
   "cell_type": "markdown",
   "metadata": {
    "id": "scbRFwlrc2zn"
   },
   "source": [
    "# **Instalación e Importación de Librerías**"
   ]
  },
  {
   "cell_type": "code",
   "execution_count": 1,
   "metadata": {
    "colab": {
     "base_uri": "https://localhost:8080/"
    },
    "id": "LuR9JtracyOq",
    "outputId": "2f2b21f5-e55e-4dab-f43c-8cc42b9b8a55"
   },
   "outputs": [
    {
     "name": "stdout",
     "output_type": "stream",
     "text": [
      "Requirement already satisfied: seaborn in /usr/local/lib/python3.10/dist-packages (0.13.2)\n",
      "Requirement already satisfied: numpy!=1.24.0,>=1.20 in /usr/local/lib/python3.10/dist-packages (from seaborn) (1.26.4)\n",
      "Requirement already satisfied: pandas>=1.2 in /usr/local/lib/python3.10/dist-packages (from seaborn) (2.2.2)\n",
      "Requirement already satisfied: matplotlib!=3.6.1,>=3.4 in /usr/local/lib/python3.10/dist-packages (from seaborn) (3.8.0)\n",
      "Requirement already satisfied: contourpy>=1.0.1 in /usr/local/lib/python3.10/dist-packages (from matplotlib!=3.6.1,>=3.4->seaborn) (1.3.0)\n",
      "Requirement already satisfied: cycler>=0.10 in /usr/local/lib/python3.10/dist-packages (from matplotlib!=3.6.1,>=3.4->seaborn) (0.12.1)\n",
      "Requirement already satisfied: fonttools>=4.22.0 in /usr/local/lib/python3.10/dist-packages (from matplotlib!=3.6.1,>=3.4->seaborn) (4.54.1)\n",
      "Requirement already satisfied: kiwisolver>=1.0.1 in /usr/local/lib/python3.10/dist-packages (from matplotlib!=3.6.1,>=3.4->seaborn) (1.4.7)\n",
      "Requirement already satisfied: packaging>=20.0 in /usr/local/lib/python3.10/dist-packages (from matplotlib!=3.6.1,>=3.4->seaborn) (24.1)\n",
      "Requirement already satisfied: pillow>=6.2.0 in /usr/local/lib/python3.10/dist-packages (from matplotlib!=3.6.1,>=3.4->seaborn) (10.4.0)\n",
      "Requirement already satisfied: pyparsing>=2.3.1 in /usr/local/lib/python3.10/dist-packages (from matplotlib!=3.6.1,>=3.4->seaborn) (3.2.0)\n",
      "Requirement already satisfied: python-dateutil>=2.7 in /usr/local/lib/python3.10/dist-packages (from matplotlib!=3.6.1,>=3.4->seaborn) (2.8.2)\n",
      "Requirement already satisfied: pytz>=2020.1 in /usr/local/lib/python3.10/dist-packages (from pandas>=1.2->seaborn) (2024.2)\n",
      "Requirement already satisfied: tzdata>=2022.7 in /usr/local/lib/python3.10/dist-packages (from pandas>=1.2->seaborn) (2024.2)\n",
      "Requirement already satisfied: six>=1.5 in /usr/local/lib/python3.10/dist-packages (from python-dateutil>=2.7->matplotlib!=3.6.1,>=3.4->seaborn) (1.16.0)\n",
      "Collecting surprise\n",
      "  Downloading surprise-0.1-py2.py3-none-any.whl.metadata (327 bytes)\n",
      "Collecting scikit-surprise (from surprise)\n",
      "  Downloading scikit_surprise-1.1.4.tar.gz (154 kB)\n",
      "\u001b[2K     \u001b[90m━━━━━━━━━━━━━━━━━━━━━━━━━━━━━━━━━━━━━━━━\u001b[0m \u001b[32m154.4/154.4 kB\u001b[0m \u001b[31m2.5 MB/s\u001b[0m eta \u001b[36m0:00:00\u001b[0m\n",
      "\u001b[?25h  Installing build dependencies ... \u001b[?25l\u001b[?25hdone\n",
      "  Getting requirements to build wheel ... \u001b[?25l\u001b[?25hdone\n",
      "  Preparing metadata (pyproject.toml) ... \u001b[?25l\u001b[?25hdone\n",
      "Requirement already satisfied: joblib>=1.2.0 in /usr/local/lib/python3.10/dist-packages (from scikit-surprise->surprise) (1.4.2)\n",
      "Requirement already satisfied: numpy>=1.19.5 in /usr/local/lib/python3.10/dist-packages (from scikit-surprise->surprise) (1.26.4)\n",
      "Requirement already satisfied: scipy>=1.6.0 in /usr/local/lib/python3.10/dist-packages (from scikit-surprise->surprise) (1.13.1)\n",
      "Downloading surprise-0.1-py2.py3-none-any.whl (1.8 kB)\n",
      "Building wheels for collected packages: scikit-surprise\n",
      "  Building wheel for scikit-surprise (pyproject.toml) ... \u001b[?25l\u001b[?25hcanceled\n",
      "\u001b[31mERROR: Operation cancelled by user\u001b[0m\u001b[31m\n",
      "\u001b[0mTraceback (most recent call last):\n",
      "  File \"/usr/local/lib/python3.10/dist-packages/pip/_internal/cli/base_command.py\", line 179, in exc_logging_wrapper\n",
      "    status = run_func(*args)\n",
      "  File \"/usr/local/lib/python3.10/dist-packages/pip/_internal/cli/req_command.py\", line 67, in wrapper\n",
      "    return func(self, options, args)\n",
      "  File \"/usr/local/lib/python3.10/dist-packages/pip/_internal/commands/install.py\", line 423, in run\n",
      "    _, build_failures = build(\n",
      "  File \"/usr/local/lib/python3.10/dist-packages/pip/_internal/wheel_builder.py\", line 319, in build\n",
      "    wheel_file = _build_one(\n",
      "  File \"/usr/local/lib/python3.10/dist-packages/pip/_internal/wheel_builder.py\", line 193, in _build_one\n",
      "    wheel_path = _build_one_inside_env(\n",
      "  File \"/usr/local/lib/python3.10/dist-packages/pip/_internal/wheel_builder.py\", line 233, in _build_one_inside_env\n",
      "    wheel_path = build_wheel_pep517(\n",
      "  File \"/usr/local/lib/python3.10/dist-packages/pip/_internal/operations/build/wheel.py\", line 30, in build_wheel_pep517\n",
      "    wheel_name = backend.build_wheel(\n",
      "  File \"/usr/local/lib/python3.10/dist-packages/pip/_internal/utils/misc.py\", line 682, in build_wheel\n",
      "    return super().build_wheel(\n",
      "  File \"/usr/local/lib/python3.10/dist-packages/pip/_vendor/pyproject_hooks/_impl.py\", line 209, in build_wheel\n",
      "    return self._call_hook('build_wheel', {\n",
      "  File \"/usr/local/lib/python3.10/dist-packages/pip/_vendor/pyproject_hooks/_impl.py\", line 311, in _call_hook\n",
      "    self._subprocess_runner(\n",
      "  File \"/usr/local/lib/python3.10/dist-packages/pip/_internal/utils/subprocess.py\", line 237, in runner\n",
      "    call_subprocess(\n",
      "  File \"/usr/local/lib/python3.10/dist-packages/pip/_internal/utils/subprocess.py\", line 151, in call_subprocess\n",
      "    line: str = proc.stdout.readline()\n",
      "KeyboardInterrupt\n",
      "\n",
      "During handling of the above exception, another exception occurred:\n",
      "\n",
      "Traceback (most recent call last):\n",
      "  File \"/usr/local/bin/pip3\", line 8, in <module>\n",
      "    sys.exit(main())\n",
      "  File \"/usr/local/lib/python3.10/dist-packages/pip/_internal/cli/main.py\", line 80, in main\n",
      "    return command.main(cmd_args)\n",
      "  File \"/usr/local/lib/python3.10/dist-packages/pip/_internal/cli/base_command.py\", line 100, in main\n",
      "    return self._main(args)\n",
      "  File \"/usr/local/lib/python3.10/dist-packages/pip/_internal/cli/base_command.py\", line 232, in _main\n",
      "    return run(options, args)\n",
      "  File \"/usr/local/lib/python3.10/dist-packages/pip/_internal/cli/base_command.py\", line 215, in exc_logging_wrapper\n",
      "    logger.critical(\"Operation cancelled by user\")\n",
      "  File \"/usr/lib/python3.10/logging/__init__.py\", line 1524, in critical\n",
      "    self._log(CRITICAL, msg, args, **kwargs)\n",
      "  File \"/usr/lib/python3.10/logging/__init__.py\", line 1624, in _log\n",
      "    self.handle(record)\n",
      "  File \"/usr/lib/python3.10/logging/__init__.py\", line 1634, in handle\n",
      "    self.callHandlers(record)\n",
      "  File \"/usr/lib/python3.10/logging/__init__.py\", line 1696, in callHandlers\n",
      "    hdlr.handle(record)\n",
      "  File \"/usr/lib/python3.10/logging/__init__.py\", line 968, in handle\n",
      "    self.emit(record)\n",
      "  File \"/usr/local/lib/python3.10/dist-packages/pip/_internal/utils/logging.py\", line 177, in emit\n",
      "    self.console.print(renderable, overflow=\"ignore\", crop=False, style=style)\n",
      "  File \"/usr/local/lib/python3.10/dist-packages/pip/_vendor/rich/console.py\", line 1673, in print\n",
      "    with self:\n",
      "  File \"/usr/local/lib/python3.10/dist-packages/pip/_vendor/rich/console.py\", line 865, in __exit__\n",
      "    self._exit_buffer()\n",
      "  File \"/usr/local/lib/python3.10/dist-packages/pip/_vendor/rich/console.py\", line 823, in _exit_buffer\n",
      "    self._check_buffer()\n",
      "  File \"/usr/local/lib/python3.10/dist-packages/pip/_vendor/rich/console.py\", line 2060, in _check_buffer\n",
      "    self.file.write(text)\n",
      "KeyboardInterrupt\n",
      "^C\n"
     ]
    }
   ],
   "source": [
    "!pip install seaborn  --upgrade\n",
    "!pip install surprise --upgrade"
   ]
  },
  {
   "cell_type": "code",
   "execution_count": 3,
   "metadata": {
    "id": "VXZfpsjLdDAq"
   },
   "outputs": [],
   "source": [
    "import pandas as pd\n",
    "import seaborn as sns\n",
    "import numpy as np\n",
    "import scipy.sparse as sparse\n",
    "import matplotlib.pyplot as plt\n",
    "import time\n",
    "import psutil\n",
    "from tabulate import tabulate\n",
    "from collections import defaultdict\n",
    "import random\n"
   ]
  },
  {
   "cell_type": "markdown",
   "metadata": {
    "id": "OO30fVZhdD-8"
   },
   "source": [
    "# **Carga de Datos**"
   ]
  },
  {
   "cell_type": "code",
   "execution_count": 4,
   "metadata": {
    "colab": {
     "base_uri": "https://localhost:8080/"
    },
    "id": "qH3jmNTBdHSy",
    "outputId": "c7906ccb-81e4-4ed6-caac-81d9143985e3"
   },
   "outputs": [
    {
     "name": "stdout",
     "output_type": "stream",
     "text": [
      "--2024-11-11 22:48:33--  https://www.dropbox.com/scl/fi/x9avfdx2a1k6uq97f0efj/LLM-ReDial-2024.zip?rlkey=ijqpf91d13d6lowek3ebjvd0n&e=2&dl=1\n",
      "Resolving www.dropbox.com (www.dropbox.com)... 162.125.5.18, 2620:100:601d:18::a27d:512\n",
      "Connecting to www.dropbox.com (www.dropbox.com)|162.125.5.18|:443... connected.\n",
      "HTTP request sent, awaiting response... 302 Found\n",
      "Location: https://uc54ac117aacc2a84a08a1b5b39d.dl.dropboxusercontent.com/cd/0/inline/CeN3ZaLNNNIS2SiW6HqYEdltWkO1OwMwfxjojq7NBT4OGiv7X4DGC4d6Zgcl14ckX7lX7eMrQszGvY3wsiDVxeCnzVKRi8WSNlgS6jfp6nrVdAj772pGOEFqxfurVFWRpUI/file?dl=1# [following]\n",
      "--2024-11-11 22:48:34--  https://uc54ac117aacc2a84a08a1b5b39d.dl.dropboxusercontent.com/cd/0/inline/CeN3ZaLNNNIS2SiW6HqYEdltWkO1OwMwfxjojq7NBT4OGiv7X4DGC4d6Zgcl14ckX7lX7eMrQszGvY3wsiDVxeCnzVKRi8WSNlgS6jfp6nrVdAj772pGOEFqxfurVFWRpUI/file?dl=1\n",
      "Resolving uc54ac117aacc2a84a08a1b5b39d.dl.dropboxusercontent.com (uc54ac117aacc2a84a08a1b5b39d.dl.dropboxusercontent.com)... 162.125.5.15, 2620:100:601d:15::a27d:50f\n",
      "Connecting to uc54ac117aacc2a84a08a1b5b39d.dl.dropboxusercontent.com (uc54ac117aacc2a84a08a1b5b39d.dl.dropboxusercontent.com)|162.125.5.15|:443... connected.\n",
      "HTTP request sent, awaiting response... 302 Found\n",
      "Location: /cd/0/inline2/CeOTUOJ5SdiII6Qa-h_gryGWamF8xEYToZP7wTw0aIDs1tDu7MqMsHRcDn18CPW1sHV5T204TNnQ07HyY1_ae7srekYG-_J898d48cJr7KUFNbNacDg1sJqysS05KuciKVYe9twPdrT0wVln7xAyQ6fsW82J1a0GNnTuWSLtQp9k_Qo5Uivjjj5jC3cX9g0uhvGbEr9n_4ANTyXY-LxjLAlAzDMkEVMInvMuChorVCirG0OHd6vBrmmvzpA4sfOynVOEqux1xqsFnXqHWZXMqzuvWHv1PGeI3dbZYxH1Hys26EDLzGswLuninukTOUbYPiadZvqzFiiZpDOupv9o12NRcRAS7dVAo_hFfgdTYHyt4Q/file?dl=1 [following]\n",
      "--2024-11-11 22:48:34--  https://uc54ac117aacc2a84a08a1b5b39d.dl.dropboxusercontent.com/cd/0/inline2/CeOTUOJ5SdiII6Qa-h_gryGWamF8xEYToZP7wTw0aIDs1tDu7MqMsHRcDn18CPW1sHV5T204TNnQ07HyY1_ae7srekYG-_J898d48cJr7KUFNbNacDg1sJqysS05KuciKVYe9twPdrT0wVln7xAyQ6fsW82J1a0GNnTuWSLtQp9k_Qo5Uivjjj5jC3cX9g0uhvGbEr9n_4ANTyXY-LxjLAlAzDMkEVMInvMuChorVCirG0OHd6vBrmmvzpA4sfOynVOEqux1xqsFnXqHWZXMqzuvWHv1PGeI3dbZYxH1Hys26EDLzGswLuninukTOUbYPiadZvqzFiiZpDOupv9o12NRcRAS7dVAo_hFfgdTYHyt4Q/file?dl=1\n",
      "Reusing existing connection to uc54ac117aacc2a84a08a1b5b39d.dl.dropboxusercontent.com:443.\n",
      "HTTP request sent, awaiting response... 200 OK\n",
      "Length: 32109796 (31M) [application/binary]\n",
      "Saving to: ‘LLM-ReDial-2024.zip’\n",
      "\n",
      "LLM-ReDial-2024.zip 100%[===================>]  30.62M  63.1MB/s    in 0.5s    \n",
      "\n",
      "2024-11-11 22:48:35 (63.1 MB/s) - ‘LLM-ReDial-2024.zip’ saved [32109796/32109796]\n",
      "\n",
      "Archive:  LLM-ReDial-2024.zip\n",
      "  inflating: read_me.py              \n",
      "  inflating: Tools.py                \n",
      "  inflating: LLM_Redial.zip          \n",
      "Archive:  LLM_Redial.zip\n",
      "   creating: Books/\n",
      "  inflating: Books/.DS_Store         \n",
      "  inflating: __MACOSX/Books/._.DS_Store  \n",
      "  inflating: Books/item_map.json     \n",
      "  inflating: __MACOSX/Books/._item_map.json  \n",
      "  inflating: Books/user_ids.json     \n",
      "  inflating: Books/final_data.jsonl  \n",
      "  inflating: Books/Conversation.txt  \n",
      "   creating: Electronics/\n",
      "  inflating: Electronics/.DS_Store   \n",
      "  inflating: __MACOSX/Electronics/._.DS_Store  \n",
      "  inflating: Electronics/item_map.json  \n",
      "  inflating: Electronics/user_ids.json  \n",
      "  inflating: Electronics/final_data.jsonl  \n",
      "  inflating: Electronics/Conversation.txt  \n",
      "   creating: Electronics/.idea/\n",
      "   creating: Electronics/.idea/inspectionProfiles/\n",
      " extracting: Electronics/.idea/.gitignore  \n",
      "  inflating: Electronics/.idea/workspace.xml  \n",
      "  inflating: Electronics/.idea/modules.xml  \n",
      "  inflating: Electronics/.idea/misc.xml  \n",
      "  inflating: Electronics/.idea/Electronics.iml  \n",
      "  inflating: Electronics/.idea/inspectionProfiles/profiles_settings.xml  \n",
      "  inflating: Electronics/.idea/inspectionProfiles/Project_Default.xml  \n",
      "   creating: Movie/\n",
      "  inflating: Movie/.DS_Store         \n",
      "  inflating: __MACOSX/Movie/._.DS_Store  \n",
      "  inflating: Movie/item_map.json     \n",
      "  inflating: __MACOSX/Movie/._item_map.json  \n",
      "  inflating: Movie/user_ids.json     \n",
      "  inflating: Movie/final_data.jsonl  \n",
      "  inflating: Movie/Conversation.txt  \n",
      "   creating: Sports/\n",
      "  inflating: Sports/.DS_Store        \n",
      "  inflating: __MACOSX/Sports/._.DS_Store  \n",
      "  inflating: Sports/item_map.json    \n",
      "  inflating: Sports/user_ids.json    \n",
      "  inflating: Sports/final_data.jsonl  \n",
      "  inflating: Sports/Conversation.txt  \n",
      "/bin/bash: line 1: rm -rf __MACOSX: command not found\n"
     ]
    }
   ],
   "source": [
    "!wget -O LLM-ReDial-2024.zip \"https://www.dropbox.com/scl/fi/x9avfdx2a1k6uq97f0efj/LLM-ReDial-2024.zip?rlkey=ijqpf91d13d6lowek3ebjvd0n&e=2&dl=1\"\n",
    "!unzip LLM-ReDial-2024.zip\n",
    "!unzip LLM_Redial.zip\n",
    "!rm LLM_Redial.zip\n",
    "!rm LLM-ReDial-2024.zip\n",
    "!rm -rf __MACOSX"
   ]
  },
  {
   "cell_type": "markdown",
   "metadata": {
    "id": "LF7w3JvggEaU"
   },
   "source": [
    "# **Random Baseline**"
   ]
  },
  {
   "cell_type": "markdown",
   "metadata": {
    "id": "WtuJXFs9LzI5"
   },
   "source": [
    "**Función para leer datos de un usuario**"
   ]
  },
  {
   "cell_type": "code",
   "execution_count": 5,
   "metadata": {
    "id": "mIP6atgejS6B"
   },
   "outputs": [],
   "source": [
    "### Directamente desde sample_data/Tools.py\n",
    "import json\n",
    "import csv\n",
    "\n",
    "def read_user_data(filename, user_id):\n",
    "    with open(filename, 'r', encoding='utf-8') as file:\n",
    "        data = [json.loads(line) for line in file]\n",
    "\n",
    "    for entry in data:\n",
    "        if user_id in entry:\n",
    "            return entry[user_id]\n",
    "\n",
    "    return None\n"
   ]
  },
  {
   "cell_type": "markdown",
   "metadata": {
    "id": "SjN8-lHVMGIN"
   },
   "source": [
    "**Evaluar baseline**"
   ]
  },
  {
   "cell_type": "code",
   "execution_count": 7,
   "metadata": {
    "id": "3HBUJTz0aL5Z"
   },
   "outputs": [],
   "source": [
    "def recall_at_k(r, k, m):\n",
    "    return (np.asarray(r)[:k] != 0).sum() / m\n",
    "\n",
    "def dcg_at_k(r, k):\n",
    "    r = np.asfarray(r)[:k]\n",
    "    if r.size:\n",
    "        return np.sum(np.subtract(np.power(2, r), 1) / np.log2(np.arange(2, r.size + 2)))\n",
    "    return 0.\n",
    "\n",
    "def idcg_at_k(k):\n",
    "    return dcg_at_k(np.ones(k), k)\n",
    "\n",
    "def ndcg_at_k(r, k, max_relevant):\n",
    "    idcg = idcg_at_k(min(k, max_relevant))\n",
    "    if not idcg:\n",
    "        return 0.\n",
    "    return dcg_at_k(r, k) / idcg"
   ]
  },
  {
   "cell_type": "code",
   "execution_count": null,
   "metadata": {
    "id": "0f64KUsuVTl_"
   },
   "outputs": [],
   "source": [
    "import os\n",
    "from most_popular import MostPopular\n",
    "\n",
    "def evaluate(items_map_path, users_map_path, final_data_path, n, sample_percent=0.1):\n",
    "    users_map = json.load(open(users_map_path, 'r'))\n",
    "    items_map = json.load(open(items_map_path, 'r'))\n",
    "\n",
    "    user_ids = list(users_map.keys())\n",
    "    items_ids = list(items_map.keys())\n",
    "\n",
    "    sample_size = int(sample_percent * len(user_ids))\n",
    "    sampled_users = random.sample(user_ids, sample_size)\n",
    "\n",
    "    data = []\n",
    "    with open(os.path.join(\"Movie\", \"final_data.jsonl\"), \"r\") as f:\n",
    "        for line in f:\n",
    "            data.append(json.loads(line))\n",
    "\n",
    "    model = MostPopular(data)\n",
    "    model.fit()\n",
    "    recommendations = model.recommend(n)\n",
    "\n",
    "    mean_ndcg = 0\n",
    "    mean_recall = 0\n",
    "    for user in sampled_users:\n",
    "        user_data = read_user_data(final_data_path, user)\n",
    "        if not user_data:\n",
    "            continue\n",
    "\n",
    "        user_might_like = [items_map[id] for id in user_data[\"user_might_like\"]]\n",
    "        rel_vector = np.isin(recommendations, user_might_like, assume_unique=True).astype(int)\n",
    "\n",
    "        mean_ndcg += ndcg_at_k(rel_vector, 20, len(user_might_like))\n",
    "        mean_recall += recall_at_k(rel_vector, 20, len(user_might_like))\n",
    "\n",
    "    mean_ndcg /= sample_size\n",
    "    mean_recall /= sample_size\n",
    "\n",
    "    return mean_ndcg, mean_recall"
   ]
  },
  {
   "cell_type": "code",
   "execution_count": 12,
   "metadata": {
    "id": "GHBLPlWE2nFn"
   },
   "outputs": [],
   "source": [
    "movies_items_map_path = \"Movie/item_map.json\"\n",
    "movies_users_map_path = \"Movie/user_ids.json\"\n",
    "movies_final_data_path = \"Movie/final_data.jsonl\"\n",
    "\n",
    "books_items_map_path = \"Books/item_map.json\"\n",
    "books_users_map_path = \"Books/user_ids.json\"\n",
    "books_final_data_path = \"Books/final_data.jsonl\""
   ]
  },
  {
   "cell_type": "markdown",
   "metadata": {
    "id": "wkObpOzz23rj"
   },
   "source": [
    "**Evaluar para películas**"
   ]
  },
  {
   "cell_type": "code",
   "execution_count": null,
   "metadata": {
    "id": "B32D4BMuahjW"
   },
   "outputs": [],
   "source": [
    "ndcg, recall = evaluate(movies_items_map_path, movies_users_map_path, movies_final_data_path, 20, 0.01)"
   ]
  },
  {
   "cell_type": "code",
   "execution_count": 20,
   "metadata": {
    "colab": {
     "base_uri": "https://localhost:8080/"
    },
    "id": "Tm_6R-x8cA8k",
    "outputId": "3d27a71c-7bf2-478c-a0ad-607d3be51c49"
   },
   "outputs": [
    {
     "name": "stdout",
     "output_type": "stream",
     "text": [
      "NDCG: 0.0\n",
      "Recall: 0.0\n"
     ]
    }
   ],
   "source": [
    "print(f\"NDCG: {ndcg}\")\n",
    "print(f\"Recall: {recall}\")"
   ]
  },
  {
   "cell_type": "markdown",
   "metadata": {
    "id": "8tmxK7uU2-y4"
   },
   "source": [
    "**Evaluar para libros**"
   ]
  },
  {
   "cell_type": "code",
   "execution_count": null,
   "metadata": {
    "colab": {
     "base_uri": "https://localhost:8080/"
    },
    "id": "hH3_3BnZ2-T_",
    "outputId": "6bfe5c04-0d7d-4f9c-ea88-e0dca01f71a1"
   },
   "outputs": [
    {
     "data": {
      "text/plain": [
       "0.0"
      ]
     },
     "execution_count": 15,
     "metadata": {},
     "output_type": "execute_result"
    }
   ],
   "source": [
    "evaluate_random_baseline(books_items_map_path, books_users_map_path, books_final_data_path, 5)"
   ]
  }
 ],
 "metadata": {
  "colab": {
   "provenance": []
  },
  "kernelspec": {
   "display_name": "Python 3",
   "name": "python3"
  },
  "language_info": {
   "name": "python"
  }
 },
 "nbformat": 4,
 "nbformat_minor": 0
}
